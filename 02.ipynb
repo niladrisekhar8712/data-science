{
 "cells": [
  {
   "cell_type": "code",
   "execution_count": 1,
   "id": "521090e8",
   "metadata": {
    "_cell_guid": "b1076dfc-b9ad-4769-8c92-a6c4dae69d19",
    "_uuid": "8f2839f25d086af736a60e9eeb907d3b93b6e0e5",
    "execution": {
     "iopub.execute_input": "2025-05-10T12:39:22.578364Z",
     "iopub.status.busy": "2025-05-10T12:39:22.578033Z",
     "iopub.status.idle": "2025-05-10T12:39:25.922489Z",
     "shell.execute_reply": "2025-05-10T12:39:25.921495Z"
    },
    "papermill": {
     "duration": 3.349825,
     "end_time": "2025-05-10T12:39:25.924023",
     "exception": false,
     "start_time": "2025-05-10T12:39:22.574198",
     "status": "completed"
    },
    "tags": []
   },
   "outputs": [
    {
     "name": "stdout",
     "output_type": "stream",
     "text": [
      "/kaggle/input/student-habits-vs-academic-performance/student_habits_performance.csv\n",
      "/kaggle/input/tipping/tips.csv\n"
     ]
    }
   ],
   "source": [
    "# This Python 3 environment comes with many helpful analytics libraries installed\n",
    "# It is defined by the kaggle/python Docker image: https://github.com/kaggle/docker-python\n",
    "# For example, here's several helpful packages to load\n",
    "\n",
    "import numpy as np # linear algebra\n",
    "import pandas as pd # data processing, CSV file I/O (e.g. pd.read_csv)\n",
    "import matplotlib.pyplot as plt\n",
    "import seaborn as sns\n",
    "\n",
    "# Input data files are available in the read-only \"../input/\" directory\n",
    "# For example, running this (by clicking run or pressing Shift+Enter) will list all files under the input directory\n",
    "\n",
    "import os\n",
    "for dirname, _, filenames in os.walk('/kaggle/input'):\n",
    "    for filename in filenames:\n",
    "        print(os.path.join(dirname, filename))\n",
    "\n",
    "dataset = pd.read_csv(\"/kaggle/input/student-habits-vs-academic-performance/student_habits_performance.csv\")\n",
    "\n",
    "# You can write up to 20GB to the current directory (/kaggle/working/) that gets preserved as output when you create a version using \"Save & Run All\" \n",
    "# You can also write temporary files to /kaggle/temp/, but they won't be saved outside of the current session"
   ]
  },
  {
   "cell_type": "code",
   "execution_count": 2,
   "id": "031c4e65",
   "metadata": {
    "execution": {
     "iopub.execute_input": "2025-05-10T12:39:25.930066Z",
     "iopub.status.busy": "2025-05-10T12:39:25.929814Z",
     "iopub.status.idle": "2025-05-10T12:39:25.944044Z",
     "shell.execute_reply": "2025-05-10T12:39:25.943302Z"
    },
    "papermill": {
     "duration": 0.018597,
     "end_time": "2025-05-10T12:39:25.945372",
     "exception": false,
     "start_time": "2025-05-10T12:39:25.926775",
     "status": "completed"
    },
    "tags": []
   },
   "outputs": [
    {
     "data": {
      "text/plain": [
       "(-0.15635065547132804,\n",
       " 69.6015,\n",
       " 70.5,\n",
       " 0    100.0\n",
       " Name: exam_score, dtype: float64)"
      ]
     },
     "execution_count": 2,
     "metadata": {},
     "output_type": "execute_result"
    }
   ],
   "source": [
    "# skewness\n",
    "dataset[\"exam_score\"].skew(), dataset[\"exam_score\"].mean(),dataset[\"exam_score\"].median(),dataset[\"exam_score\"].mode()"
   ]
  },
  {
   "cell_type": "code",
   "execution_count": 3,
   "id": "111c65e8",
   "metadata": {
    "execution": {
     "iopub.execute_input": "2025-05-10T12:39:25.951422Z",
     "iopub.status.busy": "2025-05-10T12:39:25.951174Z",
     "iopub.status.idle": "2025-05-10T12:39:26.303524Z",
     "shell.execute_reply": "2025-05-10T12:39:26.302738Z"
    },
    "papermill": {
     "duration": 0.357006,
     "end_time": "2025-05-10T12:39:26.304963",
     "exception": false,
     "start_time": "2025-05-10T12:39:25.947957",
     "status": "completed"
    },
    "tags": []
   },
   "outputs": [
    {
     "name": "stderr",
     "output_type": "stream",
     "text": [
      "/usr/local/lib/python3.11/dist-packages/seaborn/_oldcore.py:1119: FutureWarning: use_inf_as_na option is deprecated and will be removed in a future version. Convert inf values to NaN before operating instead.\n",
      "  with pd.option_context('mode.use_inf_as_na', True):\n"
     ]
    },
    {
     "data": {
      "image/png": "[encoded data removed]",
      "text/plain": [
       "<Figure size 640x480 with 1 Axes>"
      ]
     },
     "metadata": {},
     "output_type": "display_data"
    }
   ],
   "source": [
    "sns.histplot(x=\"exam_score\",data=dataset)\n",
    "plt.show()"
   ]
  },
  {
   "cell_type": "markdown",
   "id": "5a530a33",
   "metadata": {
    "papermill": {
     "duration": 0.002507,
     "end_time": "2025-05-10T12:39:26.310403",
     "exception": false,
     "start_time": "2025-05-10T12:39:26.307896",
     "status": "completed"
    },
    "tags": []
   },
   "source": [
    "**Our own data**"
   ]
  },
  {
   "cell_type": "code",
   "execution_count": 4,
   "id": "ac0a1948",
   "metadata": {
    "execution": {
     "iopub.execute_input": "2025-05-10T12:39:26.316614Z",
     "iopub.status.busy": "2025-05-10T12:39:26.316321Z",
     "iopub.status.idle": "2025-05-10T12:39:26.323105Z",
     "shell.execute_reply": "2025-05-10T12:39:26.322336Z"
    },
    "papermill": {
     "duration": 0.011524,
     "end_time": "2025-05-10T12:39:26.324442",
     "exception": false,
     "start_time": "2025-05-10T12:39:26.312918",
     "status": "completed"
    },
    "tags": []
   },
   "outputs": [
    {
     "data": {
      "text/plain": [
       "-0.5087877697077631"
      ]
     },
     "execution_count": 4,
     "metadata": {},
     "output_type": "execute_result"
    }
   ],
   "source": [
    "# creating our data and cheking it's skewness\n",
    "data = np.random.normal(0,100,100)\n",
    "df = pd.DataFrame({\"num\":data})\n",
    "df[\"num\"].skew()"
   ]
  },
  {
   "cell_type": "code",
   "execution_count": 5,
   "id": "3a0d5135",
   "metadata": {
    "execution": {
     "iopub.execute_input": "2025-05-10T12:39:26.331013Z",
     "iopub.status.busy": "2025-05-10T12:39:26.330746Z",
     "iopub.status.idle": "2025-05-10T12:39:26.512079Z",
     "shell.execute_reply": "2025-05-10T12:39:26.511338Z"
    },
    "papermill": {
     "duration": 0.186309,
     "end_time": "2025-05-10T12:39:26.513581",
     "exception": false,
     "start_time": "2025-05-10T12:39:26.327272",
     "status": "completed"
    },
    "tags": []
   },
   "outputs": [
    {
     "name": "stderr",
     "output_type": "stream",
     "text": [
      "/usr/local/lib/python3.11/dist-packages/seaborn/_oldcore.py:1119: FutureWarning: use_inf_as_na option is deprecated and will be removed in a future version. Convert inf values to NaN before operating instead.\n",
      "  with pd.option_context('mode.use_inf_as_na', True):\n"
     ]
    },
    {
     "data": {
      "text/plain": [
       "<Axes: xlabel='num', ylabel='Count'>"
      ]
     },
     "execution_count": 5,
     "metadata": {},
     "output_type": "execute_result"
    },
    {
     "data": {
      "image/png": "[encoded data removed]",
      "text/plain": [
       "<Figure size 640x480 with 1 Axes>"
      ]
     },
     "metadata": {},
     "output_type": "display_data"
    }
   ],
   "source": [
    "sns.histplot(x=\"num\",data=df)"
   ]
  },
  {
   "cell_type": "markdown",
   "id": "22d88291",
   "metadata": {
    "papermill": {
     "duration": 0.002845,
     "end_time": "2025-05-10T12:39:26.521165",
     "exception": false,
     "start_time": "2025-05-10T12:39:26.518320",
     "status": "completed"
    },
    "tags": []
   },
   "source": [
    "***Covarience & correlation***"
   ]
  },
  {
   "cell_type": "code",
   "execution_count": 6,
   "id": "c64200d2",
   "metadata": {
    "execution": {
     "iopub.execute_input": "2025-05-10T12:39:26.528513Z",
     "iopub.status.busy": "2025-05-10T12:39:26.528236Z",
     "iopub.status.idle": "2025-05-10T12:39:26.719973Z",
     "shell.execute_reply": "2025-05-10T12:39:26.719081Z"
    },
    "papermill": {
     "duration": 0.197315,
     "end_time": "2025-05-10T12:39:26.721552",
     "exception": false,
     "start_time": "2025-05-10T12:39:26.524237",
     "status": "completed"
    },
    "tags": []
   },
   "outputs": [
    {
     "data": {
      "image/png": "[encoded data removed]",
      "text/plain": [
       "<Figure size 300x300 with 2 Axes>"
      ]
     },
     "metadata": {},
     "output_type": "display_data"
    }
   ],
   "source": [
    "data2 = pd.read_csv(\"/kaggle/input/tipping/tips.csv\")\n",
    "data2.drop([\"sex\",\"smoker\",\"day\",\"time\"], axis=1,inplace=True)\n",
    "data2_corr = data2.corr()\n",
    "plt.figure(figsize=[3,3])\n",
    "sns.heatmap(data2_corr, annot=True)\n",
    "plt.show()"
   ]
  },
  {
   "cell_type": "code",
   "execution_count": 7,
   "id": "0c6e9cdf",
   "metadata": {
    "execution": {
     "iopub.execute_input": "2025-05-10T12:39:26.730213Z",
     "iopub.status.busy": "2025-05-10T12:39:26.729504Z",
     "iopub.status.idle": "2025-05-10T12:39:26.921024Z",
     "shell.execute_reply": "2025-05-10T12:39:26.920396Z"
    },
    "papermill": {
     "duration": 0.197486,
     "end_time": "2025-05-10T12:39:26.922613",
     "exception": false,
     "start_time": "2025-05-10T12:39:26.725127",
     "status": "completed"
    },
    "tags": []
   },
   "outputs": [
    {
     "data": {
      "image/png": "[encoded data removed]",
      "text/plain": [
       "<Figure size 300x300 with 2 Axes>"
      ]
     },
     "metadata": {},
     "output_type": "display_data"
    }
   ],
   "source": [
    "data2_cov = data2.cov() ## not very useful\n",
    "plt.figure(figsize=[3,3])\n",
    "sns.heatmap(data2_cov, annot=True)\n",
    "plt.show()"
   ]
  }
 ],
 "metadata": {
  "kaggle": {
   "accelerator": "none",
   "dataSources": [
    {
     "datasetId": 137031,
     "sourceId": 324803,
     "sourceType": "datasetVersion"
    },
    {
     "datasetId": 7122663,
     "sourceId": 11376681,
     "sourceType": "datasetVersion"
    }
   ],
   "dockerImageVersionId": 31012,
   "isGpuEnabled": false,
   "isInternetEnabled": true,
   "language": "python",
   "sourceType": "notebook"
  },
  "kernelspec": {
   "display_name": "Python 3",
   "language": "python",
   "name": "python3"
  },
  "language_info": {
   "codemirror_mode": {
    "name": "ipython",
    "version": 3
   },
   "file_extension": ".py",
   "mimetype": "text/x-python",
   "name": "python",
   "nbconvert_exporter": "python",
   "pygments_lexer": "ipython3",
   "version": "3.11.11"
  },
  "papermill": {
   "default_parameters": {},
   "duration": 9.399834,
   "end_time": "2025-05-10T12:39:27.545754",
   "environment_variables": {},
   "exception": null,
   "input_path": "__notebook__.ipynb",
   "output_path": "__notebook__.ipynb",
   "parameters": {},
   "start_time": "2025-05-10T12:39:18.145920",
   "version": "2.6.0"
  }
 },
 "nbformat": 4,
 "nbformat_minor": 5
}
